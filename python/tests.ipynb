{
 "cells": [
  {
   "cell_type": "code",
   "execution_count": 1,
   "metadata": {},
   "outputs": [],
   "source": [
    "from naive_solver import NaiveSolver, SplittingSolver\n",
    "from nim import Nim"
   ]
  },
  {
   "cell_type": "code",
   "execution_count": 2,
   "metadata": {},
   "outputs": [
    {
     "name": "stdout",
     "output_type": "stream",
     "text": [
      "game size :   0, nimber :   0, game-table size :   1\n",
      "game size :   1, nimber :   0, game-table size :   2\n",
      "game size :   2, nimber :   1, game-table size :   4\n",
      "game size :   3, nimber :   3, game-table size :  10\n",
      "game size :   4, nimber :   0, game-table size :  34\n",
      "game size :   5, nimber :   4, game-table size : 154\n",
      "game size :   6, nimber :   1, game-table size : 874\n",
      "game size :   7, nimber :   7, game-table size : 5914\n",
      "game size :   8, nimber :   0, game-table size : 46234\n",
      "game size :   9, nimber :   8, game-table size : 409114\n"
     ]
    }
   ],
   "source": [
    "solver = NaiveSolver()\n",
    "for i in range(10):\n",
    "    nimber = solver.get_nimber(Nim(range(i)))\n",
    "    dict_size = len(solver.game_table)\n",
    "    print(f'game size : {i:3d}, nimber : {nimber:3d}, game-table size : {dict_size:8d}')"
   ]
  },
  {
   "cell_type": "code",
   "execution_count": null,
   "metadata": {},
   "outputs": [
    {
     "name": "stdout",
     "output_type": "stream",
     "text": [
      "game size :   0, nimber :   0, game-table size :   1\n",
      "game size :   1, nimber :   0, game-table size :   2\n",
      "game size :   2, nimber :   1, game-table size :   4\n",
      "game size :   3, nimber :   3, game-table size :   6\n",
      "game size :   4, nimber :   0, game-table size :   8\n",
      "game size :   5, nimber :   4, game-table size :  10\n",
      "game size :   6, nimber :   1, game-table size :  12\n",
      "game size :   7, nimber :   7, game-table size :  14\n",
      "game size :   8, nimber :   0, game-table size :  16\n",
      "game size :   9, nimber :   8, game-table size :  18\n",
      "game size :  10, nimber :   1, game-table size :  20\n",
      "game size :  11, nimber :  11, game-table size :  22\n",
      "game size :  12, nimber :   0, game-table size :  24\n",
      "game size :  13, nimber :  12, game-table size :  26\n",
      "game size :  14, nimber :   1, game-table size :  28\n",
      "game size :  15, nimber :  15, game-table size :  30\n",
      "game size :  16, nimber :   0, game-table size :  32\n",
      "game size :  17, nimber :  16, game-table size :  34\n",
      "game size :  18, nimber :   1, game-table size :  36\n",
      "game size :  19, nimber :  19, game-table size :  38\n"
     ]
    }
   ],
   "source": [
    "solver = SplittingSolver()\n",
    "for i in range(20):\n",
    "    nimber = solver.get_nimber(Nim(range(i)))\n",
    "    dict_size = len(solver.game_table)\n",
    "    print(f'game size : {i:3d}, nimber : {nimber:3d}, game-table size : {dict_size:3d}')"
   ]
  },
  {
   "cell_type": "code",
   "execution_count": 4,
   "metadata": {},
   "outputs": [
    {
     "name": "stdout",
     "output_type": "stream",
     "text": [
      "{(): 0, (0,): 0, (1,): 1, (0, 1): 1, (2,): 2, (0, 1, 2): 3, (3,): 3, (0, 1, 2, 3): 0, (4,): 4, (0, 1, 2, 3, 4): 4, (5,): 5, (0, 1, 2, 3, 4, 5): 1, (6,): 6, (0, 1, 2, 3, 4, 5, 6): 7, (7,): 7, (0, 1, 2, 3, 4, 5, 6, 7): 0, (8,): 8, (0, 1, 2, 3, 4, 5, 6, 7, 8): 8, (9,): 9, (0, 1, 2, 3, 4, 5, 6, 7, 8, 9): 1, (10,): 10, (0, 1, 2, 3, 4, 5, 6, 7, 8, 9, 10): 11, (11,): 11, (0, 1, 2, 3, 4, 5, 6, 7, 8, 9, 10, 11): 0, (12,): 12, (0, 1, 2, 3, 4, 5, 6, 7, 8, 9, 10, 11, 12): 12, (13,): 13, (0, 1, 2, 3, 4, 5, 6, 7, 8, 9, 10, 11, 12, 13): 1, (14,): 14, (0, 1, 2, 3, 4, 5, 6, 7, 8, 9, 10, 11, 12, 13, 14): 15, (15,): 15, (0, 1, 2, 3, 4, 5, 6, 7, 8, 9, 10, 11, 12, 13, 14, 15): 0, (16,): 16, (0, 1, 2, 3, 4, 5, 6, 7, 8, 9, 10, 11, 12, 13, 14, 15, 16): 16, (17,): 17, (0, 1, 2, 3, 4, 5, 6, 7, 8, 9, 10, 11, 12, 13, 14, 15, 16, 17): 1, (18,): 18, (0, 1, 2, 3, 4, 5, 6, 7, 8, 9, 10, 11, 12, 13, 14, 15, 16, 17, 18): 19}\n"
     ]
    }
   ],
   "source": [
    "print(solver.game_table)"
   ]
  }
 ],
 "metadata": {
  "kernelspec": {
   "display_name": "Python 3",
   "language": "python",
   "name": "python3"
  },
  "language_info": {
   "codemirror_mode": {
    "name": "ipython",
    "version": 3
   },
   "file_extension": ".py",
   "mimetype": "text/x-python",
   "name": "python",
   "nbconvert_exporter": "python",
   "pygments_lexer": "ipython3",
   "version": "3.11.5"
  }
 },
 "nbformat": 4,
 "nbformat_minor": 2
}
